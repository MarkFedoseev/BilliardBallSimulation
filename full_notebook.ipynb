{
 "cells": [
  {
   "cell_type": "code",
   "execution_count": 1,
   "metadata": {},
   "outputs": [],
   "source": [
    "import math\n",
    "import numpy as np\n",
    "from copy import deepcopy\n",
    "from matplotlib import pyplot as plt"
   ]
  },
  {
   "attachments": {},
   "cell_type": "markdown",
   "metadata": {},
   "source": [
    "Input values"
   ]
  },
  {
   "cell_type": "code",
   "execution_count": 176,
   "metadata": {},
   "outputs": [],
   "source": [
    "#длина стола ширина стола\n",
    "Lx = 2.0\n",
    "Ly = 2.0 \n",
    "\n",
    "# Координаты лузы\n",
    "x0 = 1\n",
    "y0 = 1\n",
    "\n",
    "# Координаты красн. шарика\n",
    "x1 = 1\n",
    "y1 = 0.1\n",
    "\n",
    "# Координаты зелен шарика\n",
    "x2 = 1\n",
    "y2 = 0.2\n",
    "\n",
    "# Радиус лузы\n",
    "R = 0.4\n",
    "\n",
    "# Радиус шаров\n",
    "r = 0.03\n",
    "\n",
    "# Масса шаров\n",
    "m = 0.3 \n",
    "\n",
    "# начальная скорость кр шара\n",
    "V0 = 2\n",
    "\n",
    "g = 9.8\n",
    "# к-т трения\n",
    "mu1 = 0.03\n",
    "mu2 = 0.15 \n",
    "mu3 = 0.3\n",
    "\n",
    "#mu1, mu2, mu3 = 0.1, 0.5, 1\n",
    "\n",
    "#TODO\n",
    "#alpha = math.pi/4\n",
    "#mu = 0.1\n",
    "#mu = mu3"
   ]
  },
  {
   "attachments": {},
   "cell_type": "markdown",
   "metadata": {},
   "source": [
    "Classes"
   ]
  },
  {
   "cell_type": "code",
   "execution_count": 177,
   "metadata": {},
   "outputs": [],
   "source": [
    "class Coordinates:\n",
    "    def __init__(self, x, y):\n",
    "        self.x = x\n",
    "        self.y = y\n",
    "\n",
    "    def norm(self):\n",
    "        return math.sqrt(self.x**2 + self.y**2) # ~ distance(Coordinates(0, 0))\n",
    "\n",
    "    def distance(self, cord):\n",
    "        #return math.sqrt(math.pow((cord.x - self.x ), 2) + math.pow((cord.y - self.y ), 2))\n",
    "        return math.sqrt((self.x - cord.x)**2 + (self.y - cord.y)**2)\n",
    "    \n",
    "    def __add__(self, coordinates):\n",
    "        return Coordinates(self.x + coordinates.x, self.y + coordinates.y)\n",
    "    def __sub__(self, coordinates):\n",
    "        return Coordinates(self.x - coordinates.x, self.y - coordinates.y)\n",
    "    def __mul__(self, const):\n",
    "        return Coordinates(const*self.x, const*self.y)\n",
    "    def __rmul__(self, const):\n",
    "        return Coordinates(const*self.x, const*self.y)\n",
    "    def __truediv__(self, const):\n",
    "        return Coordinates(self.x / const, self.y / const)\n",
    "    def __lt__(self, coordinates):\n",
    "        return self.x < coordinates.x or self.y < coordinates.y\n",
    "\n",
    "class Ball:\n",
    "    def __init__(self, coordinates : Coordinates, speed : Coordinates, acceleration : Coordinates, m, r):\n",
    "        self.coordinates = coordinates\n",
    "        self.setSpeed(speed)\n",
    "        self.setAcceleration(acceleration)\n",
    "        self.m = m\n",
    "        self.r = r\n",
    "    def setSpeed(self, speed):\n",
    "        self.speed = deepcopy(speed)\n",
    "        #if speed is not None:\n",
    "        #    self.speed = Coordinates(speed.x ,speed.y)\n",
    "    def getSpeed(self):\n",
    "        return self.speed\n",
    "    def setAcceleration(self, acceleration : Coordinates):\n",
    "        self.acceleration = deepcopy(acceleration)\n",
    "    def getAcceleration(self):\n",
    "        return self.acceleration\n",
    "    \n",
    "    def iteration(self, dt):\n",
    "        dv = dt*self.acceleration\n",
    "        if abs(self.speed.x) < abs(dv.x):\n",
    "            dv.x = -self.speed.x\n",
    "        if abs(self.speed.y) < abs(dv.y):\n",
    "            dv.y = -self.speed.y\n",
    "        self.coordinates = self.coordinates + dt*self.speed\n",
    "        self.speed = self.speed + dv\n",
    "\n",
    "    def isCollision(self, ball):\n",
    "        return self.coordinates.distance(ball.coordinates) <= self.r + ball.r\n",
    "    \n",
    "    def isCollisionWall(self, Lx, Ly):\n",
    "        def is_collision_side(Lx):\n",
    "            if self.coordinates.x + self.r >= Lx or self.coordinates.x - self.r <= 0:\n",
    "                return -1\n",
    "            else:\n",
    "                return 1\n",
    "        def is_collision_end(Ly):\n",
    "            if self.coordinates.y + self.r >= Ly or self.coordinates.y - self.r <= 0:\n",
    "                return -1\n",
    "            else:\n",
    "                return 1\n",
    "        self.speed.x = self.speed.x * is_collision_side(Lx)\n",
    "        self.speed.y = self.speed.y * is_collision_end(Ly)\n",
    "        self.acceleration.x = self.acceleration.x * is_collision_side(Lx)\n",
    "        self.acceleration.y = self.acceleration.y * is_collision_end(Ly)\n",
    "        #_alpha = math.atan(self.speed.y / self.speed.x)\n",
    "        #self.setAcceleration()"
   ]
  },
  {
   "attachments": {},
   "cell_type": "markdown",
   "metadata": {},
   "source": [
    "Main logic"
   ]
  },
  {
   "cell_type": "code",
   "execution_count": 185,
   "metadata": {},
   "outputs": [],
   "source": [
    "results = {\n",
    "    mu1 : dict(zip(np.linspace(0, 2*np.pi, 360).tolist(), [-1]*360)),\n",
    "    mu2 : dict(zip(np.linspace(0, 2*np.pi, 360).tolist(), [-1]*360)),\n",
    "    mu3 : dict(zip(np.linspace(0, 2*np.pi, 360).tolist(), [-1]*360))\n",
    "}\n",
    "#print(results)\n",
    "dt = 10./2000\n",
    "for mu, result in results.items():\n",
    "    for alpha in result.keys():\n",
    "        RedBall = Ball(Coordinates(x1, y1),\\\n",
    "                    Coordinates(V0*math.cos(alpha), V0*math.sin(alpha)),\\\n",
    "                        Coordinates(-mu*g*math.cos(alpha), -mu*g*math.sin(alpha)),\\\n",
    "                            m, r)\n",
    "        GreenBall = Ball(Coordinates(x2, y2), Coordinates(0, 0), Coordinates(0, 0), m, r)\n",
    "        Hole = Ball(Coordinates(x0, y0), None, None, None, R)\n",
    "        for t in np.linspace(0, 10, 2000):\n",
    "            if RedBall.isCollision(GreenBall):\n",
    "                d = 0\n",
    "                _alpha = 0\n",
    "                if RedBall.speed.x != 0:\n",
    "                    _alpha = math.atan(RedBall.speed.y / RedBall.speed.x)\n",
    "                    if RedBall.speed.y > 0 and RedBall.speed.x < 0 or RedBall.speed.y < 0 and RedBall.speed.x < 0:\n",
    "                        _alpha += math.pi\n",
    "                    BR = RedBall.coordinates.y - RedBall.speed.y / RedBall.speed.x * RedBall.coordinates.x\n",
    "                    BG = GreenBall.coordinates.y - RedBall.speed.y / RedBall.speed.x * GreenBall.coordinates.x\n",
    "                    d = (BR - BG) / math.sqrt((RedBall.speed.y / RedBall.speed.x)**2 + 1)\n",
    "                else:\n",
    "                    if RedBall.speed.y > 0:\n",
    "                        _alpha = math.pi / 2\n",
    "                    else:\n",
    "                        _alpha = -math.pi / 2\n",
    "                    BR = RedBall.coordinates.x\n",
    "                    BG = GreenBall.coordinates.x\n",
    "                    d = BR - BG\n",
    "                if abs(BR - BG) == 0: #центральное столкновение\n",
    "                    GreenBall.setSpeed(RedBall.getSpeed())\n",
    "                    GreenBall.setAcceleration(RedBall.getAcceleration())\n",
    "                else:\n",
    "                    phi = math.acos(abs(d)/(2*r))\n",
    "                    if _alpha != math.pi / 2:\n",
    "                        if (d > 0) == (RedBall.speed.x > 0): #A\n",
    "                            phiRed = _alpha + phi\n",
    "                            phiGreen = _alpha - (math.pi / 2 - phi)\n",
    "                        else: #B\n",
    "                            phiRed = _alpha - phi\n",
    "                            phiGreen = _alpha + (math.pi / 2 - phi)\n",
    "                    else:\n",
    "                        if (BR < BG) == (RedBall.coordinates.x < GreenBall.coordinates.x):\n",
    "                            phiRed = _alpha + phi\n",
    "                            phiGreen = _alpha - (math.pi / 2 - phi)\n",
    "                        else:\n",
    "                            phiRed = _alpha - phi\n",
    "                            phiGreen = _alpha + (math.pi / 2 - phi)\n",
    "                    GBSpeedNorm = RedBall.speed.norm() * math.sin(_alpha - phiRed) / math.sin(phiGreen - phiRed)\n",
    "                    GreenBall.setSpeed(Coordinates(GBSpeedNorm*math.cos(phiGreen),\\\n",
    "                                                GBSpeedNorm*math.sin(phiGreen)))\n",
    "                    GreenBall.setAcceleration(Coordinates(-mu*g*math.cos(phiGreen), -mu*g*math.sin(phiGreen)))\n",
    "                    RBSpeedNorm = RedBall.speed.norm() / math.cos(phiRed) * \\\n",
    "                        (math.cos(_alpha) - math.cos(phiGreen)*math.sin(_alpha - phiRed) / math.sin(phiGreen - phiRed))\n",
    "                    RedBall.setSpeed(Coordinates(RBSpeedNorm*math.cos(phiRed), RBSpeedNorm*math.sin(phiRed)))\n",
    "                    RedBall.setAcceleration(Coordinates(-mu*g*math.cos(phiRed), -mu*g*math.sin(phiRed)))\n",
    "            if GreenBall.isCollision(Hole):\n",
    "                result[alpha] = m * GreenBall.speed.norm()**2 / 2\n",
    "                break\n",
    "            if RedBall.speed.x == 0 and RedBall.speed.y == 0 and GreenBall.speed.x == 0 and GreenBall.speed.y == 0:\n",
    "                break\n",
    "            RedBall.isCollisionWall(Lx, Ly)\n",
    "            GreenBall.isCollisionWall(Lx, Ly)\n",
    "            RedBall.iteration(dt)\n",
    "            GreenBall.iteration(dt)\n",
    "            \n",
    "    results[mu] = {angle:energy for angle, energy in result.items() if energy != -1}\n",
    "    #result = {angle:energy for angle, energy in result.items() if energy != -1}"
   ]
  },
  {
   "attachments": {},
   "cell_type": "markdown",
   "metadata": {},
   "source": [
    "Graph"
   ]
  },
  {
   "cell_type": "code",
   "execution_count": 186,
   "metadata": {},
   "outputs": [
    {
     "name": "stdout",
     "output_type": "stream",
     "text": [
      "360\n"
     ]
    },
    {
     "data": {
      "image/png": "[encoded data removed]",
      "text/plain": [
       "<Figure size 1080x720 with 1 Axes>"
      ]
     },
     "metadata": {
      "needs_background": "dark"
     },
     "output_type": "display_data"
    }
   ],
   "source": [
    "print(len(result))\n",
    "color1 = 'white'\n",
    "color2 = 'black'\n",
    "color0 = color1\n",
    "\n",
    "\n",
    "#angles = list(result.keys())\n",
    "#E = list(result.values())\n",
    "#angles = [angle * 180 / math.pi for angle in angles]\n",
    "\n",
    "fig = plt.figure(figsize=(15, 10))\n",
    "\n",
    "ax = fig.add_subplot()\n",
    "#plt.figure(figsize=(15, 10))\n",
    "plt.minorticks_on()\n",
    "plt.xlim((0, 360))\n",
    "plt.grid(which='major', color = 'grey')\n",
    "plt.grid(which='minor', color = 'grey')\n",
    "plt.ylabel(\"Энергия шара $E$ (Дж)\", fontsize=24, color=color0)\n",
    "plt.xlabel(\"Угол $\\\\alpha$ (град)\", fontsize=24, color=color0)\n",
    "ax.tick_params(axis='x', colors=color0)\n",
    "ax.tick_params(axis='y', colors=color0)\n",
    "#plt.scatter(angles, E, color='r')\n",
    "plt.scatter([angle * 180 / math.pi for angle in list(results[mu1].keys())], list(results[mu1].values()), color='r')\n",
    "plt.scatter([angle * 180 / math.pi for angle in list(results[mu2].keys())], list(results[mu2].values()), color='g')\n",
    "plt.scatter([angle * 180 / math.pi for angle in list(results[mu3].keys())], list(results[mu3].values()), color='b')\n",
    "plt.grid(True)\n",
    "\n",
    "\n",
    "\n",
    "plt.savefig('graph.jpg')\n",
    "plt.show()"
   ]
  },
  {
   "attachments": {},
   "cell_type": "markdown",
   "metadata": {},
   "source": [
    "Test"
   ]
  },
  {
   "cell_type": "code",
   "execution_count": 193,
   "metadata": {},
   "outputs": [
    {
     "name": "stdout",
     "output_type": "stream",
     "text": [
      "A used\n",
      "hole\n"
     ]
    }
   ],
   "source": [
    "mu = 0.03\n",
    "dt = 10. / 200\n",
    "alpha = math.pi / 2 + 0.1\n",
    "RedBall = Ball(Coordinates(x1, y1),\\\n",
    "                Coordinates(V0*math.cos(alpha), V0*math.sin(alpha)),\\\n",
    "                    Coordinates(-mu*g*math.cos(alpha), -mu*g*math.sin(alpha)),\\\n",
    "                        m, r)\n",
    "GreenBall = Ball(Coordinates(x2, y2), Coordinates(0, 0), Coordinates(0, 0), m, r)\n",
    "Hole = Ball(Coordinates(x0, y0), None, None, None, R)\n",
    "toSaveRed = [[], []]\n",
    "toSaveGreen = [[], []]\n",
    "for t in np.linspace(0, 10, 200):\n",
    "\n",
    "    toSaveRed[0].append(RedBall.coordinates.x)\n",
    "    toSaveRed[1].append(RedBall.coordinates.y)\n",
    "    toSaveGreen[0].append(GreenBall.coordinates.x)\n",
    "    toSaveGreen[1].append(GreenBall.coordinates.y)\n",
    "    \n",
    "    #print(RedBall.coordinates.distance(GreenBall.coordinates))\n",
    "    #print(RedBall.coordinates.x, RedBall.coordinates.y)\n",
    "    #print()\n",
    "    if RedBall.isCollision(GreenBall):\n",
    "        d = 0\n",
    "        _alpha = 0\n",
    "        if RedBall.speed.x != 0:\n",
    "            _alpha = math.atan(RedBall.speed.y / RedBall.speed.x)\n",
    "            if RedBall.speed.y > 0 and RedBall.speed.x < 0 or RedBall.speed.y < 0 and RedBall.speed.x < 0:\n",
    "                _alpha += math.pi\n",
    "            BR = RedBall.coordinates.y - RedBall.speed.y / RedBall.speed.x * RedBall.coordinates.x\n",
    "            BG = GreenBall.coordinates.y - RedBall.speed.y / RedBall.speed.x * GreenBall.coordinates.x\n",
    "            d = (BR - BG) / math.sqrt((RedBall.speed.y / RedBall.speed.x)**2 + 1)\n",
    "        else:\n",
    "            if RedBall.speed.y > 0:\n",
    "                _alpha = math.pi / 2\n",
    "            else:\n",
    "                _alpha = -math.pi / 2\n",
    "            BR = RedBall.coordinates.x\n",
    "            BG = GreenBall.coordinates.x\n",
    "            d = BR - BG\n",
    "        if abs(BR - BG) == 0:\n",
    "            GreenBall.setSpeed(RedBall.getSpeed())\n",
    "            GreenBall.setAcceleration(RedBall.getAcceleration())\n",
    "        else:\n",
    "            phi = math.acos(abs(d)/(2*r))\n",
    "            if _alpha != math.pi / 2:\n",
    "                if (d > 0) == (RedBall.speed.x > 0): #A\n",
    "                    print('A used')\n",
    "                    phiRed = _alpha + phi\n",
    "                    phiGreen = _alpha - (math.pi / 2 - phi)\n",
    "                else: #B\n",
    "                    print('B used')\n",
    "                    print(d)\n",
    "                    print(RedBall.speed.x)\n",
    "                    phiRed = _alpha - phi\n",
    "                    phiGreen = _alpha + (math.pi / 2 - phi)\n",
    "            else:\n",
    "                if BR < BG == RedBall.coordinates.x < GreenBall.coordinates.x:\n",
    "                    phiRed = _alpha + phi\n",
    "                    phiGreen = _alpha - (math.pi / 2 - phi)\n",
    "                else:\n",
    "                    phiRed = _alpha - phi\n",
    "                    phiGreen = _alpha + (math.pi / 2 - phi)\n",
    "\n",
    "            GBSpeedNorm = RedBall.speed.norm() * math.sin(_alpha - phiRed) / math.sin(phiGreen - phiRed)\n",
    "            GreenBall.setSpeed(Coordinates(GBSpeedNorm*math.cos(phiGreen),\\\n",
    "                                        GBSpeedNorm*math.sin(phiGreen)))\n",
    "            GreenBall.setAcceleration(Coordinates(-mu*g*math.cos(phiGreen), -mu*g*math.sin(phiGreen)))\n",
    "            RBSpeedNorm = RedBall.speed.norm() / math.cos(phiRed) * \\\n",
    "                (math.cos(_alpha) - math.cos(phiGreen)*math.sin(_alpha - phiRed) / math.sin(phiGreen - phiRed))\n",
    "            RedBall.setSpeed(Coordinates(RBSpeedNorm*math.cos(phiRed), RBSpeedNorm*math.sin(phiRed)))\n",
    "            RedBall.setAcceleration(Coordinates(-mu*g*math.cos(phiRed), -mu*g*math.sin(phiRed)))\n",
    "    if GreenBall.isCollision(Hole):\n",
    "        print('hole')\n",
    "        break\n",
    "    if RedBall.speed.x == 0 and RedBall.speed.y == 0 and GreenBall.speed.x == 0 and GreenBall.speed.y == 0:\n",
    "        print('zero speed')\n",
    "        break\n",
    "    RedBall.isCollisionWall(Lx, Ly)\n",
    "    GreenBall.isCollisionWall(Lx, Ly)\n",
    "    RedBall.iteration(dt)\n",
    "    GreenBall.iteration(dt)\n"
   ]
  },
  {
   "cell_type": "code",
   "execution_count": 194,
   "metadata": {},
   "outputs": [
    {
     "data": {
      "text/plain": [
       "6"
      ]
     },
     "execution_count": 194,
     "metadata": {},
     "output_type": "execute_result"
    }
   ],
   "source": [
    "len(toSaveRed[0])"
   ]
  },
  {
   "cell_type": "code",
   "execution_count": 195,
   "metadata": {},
   "outputs": [
    {
     "data": {
      "image/png": "[encoded data removed]",
      "text/plain": [
       "<Figure size 432x288 with 1 Axes>"
      ]
     },
     "metadata": {
      "needs_background": "light"
     },
     "output_type": "display_data"
    }
   ],
   "source": [
    "import imageio\n",
    "import os\n",
    "\n",
    "for filename in os.listdir('./figs/'):\n",
    "    os.remove('./figs/' + filename)\n",
    "for i in range(len(toSaveRed[0])):\n",
    "    plt.clf()\n",
    "    plt.axis([0,Lx,0,Ly])\n",
    "    plt.scatter(toSaveRed[0][max(0, i - 5) : i : 1],toSaveRed[1][max(0, i - 5) : i : 1], color='red')\n",
    "    plt.scatter([x0], [y0], color='gray', s=20*16)\n",
    "    plt.scatter(toSaveGreen[0][max(0, i - 5) : i : 1],toSaveGreen[1][max(0, i - 5) : i : 1], color='green')\n",
    "    num = ''\n",
    "    if i < 10:\n",
    "        num = '00' + str(i)\n",
    "    elif i < 100:\n",
    "        num = '0' + str(i)\n",
    "    else:\n",
    "        num = str(i)\n",
    "    plt.savefig('./figs/' + num + '.png')\n",
    "with imageio.get_writer('plot.gif', mode='I') as writer:\n",
    "    filenames = os.listdir('./figs/')\n",
    "    filenames.sort()\n",
    "    for filename in filenames:\n",
    "        writer.append_data(imageio.imread('./figs/' + filename))"
   ]
  }
 ],
 "metadata": {
  "kernelspec": {
   "display_name": "base",
   "language": "python",
   "name": "python3"
  },
  "language_info": {
   "codemirror_mode": {
    "name": "ipython",
    "version": 3
   },
   "file_extension": ".py",
   "mimetype": "text/x-python",
   "name": "python",
   "nbconvert_exporter": "python",
   "pygments_lexer": "ipython3",
   "version": "3.8.5"
  },
  "orig_nbformat": 4
 },
 "nbformat": 4,
 "nbformat_minor": 2
}
